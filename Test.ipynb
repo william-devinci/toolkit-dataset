{
 "cells": [
  {
   "cell_type": "code",
   "execution_count": 2,
   "id": "7adcf696-3ac6-4d1a-9b85-f8b7b8aa5f15",
   "metadata": {},
   "outputs": [
    {
     "name": "stdout",
     "output_type": "stream",
     "text": [
      "Collecting pycocotools\n",
      "  Downloading pycocotools-2.0.7-cp310-cp310-manylinux_2_17_x86_64.manylinux2014_x86_64.whl.metadata (1.1 kB)\n",
      "Requirement already satisfied: matplotlib>=2.1.0 in ./car_segmentation/lib/python3.10/site-packages (from pycocotools) (3.8.2)\n",
      "Requirement already satisfied: numpy in ./car_segmentation/lib/python3.10/site-packages (from pycocotools) (1.26.2)\n",
      "Requirement already satisfied: contourpy>=1.0.1 in ./car_segmentation/lib/python3.10/site-packages (from matplotlib>=2.1.0->pycocotools) (1.2.0)\n",
      "Requirement already satisfied: cycler>=0.10 in ./car_segmentation/lib/python3.10/site-packages (from matplotlib>=2.1.0->pycocotools) (0.12.1)\n",
      "Requirement already satisfied: fonttools>=4.22.0 in ./car_segmentation/lib/python3.10/site-packages (from matplotlib>=2.1.0->pycocotools) (4.45.0)\n",
      "Requirement already satisfied: kiwisolver>=1.3.1 in ./car_segmentation/lib/python3.10/site-packages (from matplotlib>=2.1.0->pycocotools) (1.4.5)\n",
      "Requirement already satisfied: packaging>=20.0 in ./car_segmentation/lib/python3.10/site-packages (from matplotlib>=2.1.0->pycocotools) (23.2)\n",
      "Requirement already satisfied: pillow>=8 in ./car_segmentation/lib/python3.10/site-packages (from matplotlib>=2.1.0->pycocotools) (10.1.0)\n",
      "Requirement already satisfied: pyparsing>=2.3.1 in ./car_segmentation/lib/python3.10/site-packages (from matplotlib>=2.1.0->pycocotools) (3.1.1)\n",
      "Requirement already satisfied: python-dateutil>=2.7 in ./car_segmentation/lib/python3.10/site-packages (from matplotlib>=2.1.0->pycocotools) (2.8.2)\n",
      "Requirement already satisfied: six>=1.5 in ./car_segmentation/lib/python3.10/site-packages (from python-dateutil>=2.7->matplotlib>=2.1.0->pycocotools) (1.16.0)\n",
      "Downloading pycocotools-2.0.7-cp310-cp310-manylinux_2_17_x86_64.manylinux2014_x86_64.whl (426 kB)\n",
      "\u001b[2K   \u001b[90m━━━━━━━━━━━━━━━━━━━━━━━━━━━━━━━━━━━━━━━━\u001b[0m \u001b[32m426.2/426.2 kB\u001b[0m \u001b[31m4.8 MB/s\u001b[0m eta \u001b[36m0:00:00\u001b[0ma \u001b[36m0:00:01\u001b[0m\n",
      "\u001b[?25hInstalling collected packages: pycocotools\n",
      "Successfully installed pycocotools-2.0.7\n"
     ]
    }
   ],
   "source": [
    "!pip install pycocotools"
   ]
  },
  {
   "cell_type": "code",
   "execution_count": 51,
   "id": "b8dd7036-6718-4ff2-b0aa-ca2a430e8293",
   "metadata": {},
   "outputs": [
    {
     "name": "stdout",
     "output_type": "stream",
     "text": [
      "loading annotations into memory...\n",
      "Done (t=0.00s)\n",
      "creating index...\n",
      "index created!\n",
      "Category: tailgate\n"
     ]
    },
    {
     "data": {
      "image/png": "[encoded data removed]",
      "text/plain": [
       "<Figure size 640x480 with 1 Axes>"
      ]
     },
     "metadata": {},
     "output_type": "display_data"
    }
   ],
   "source": [
    "import matplotlib.pyplot as plt\n",
    "from skimage.measure import find_contours\n",
    "from pycocotools.coco import COCO\n",
    "'''\n",
    "# Load COCO annotations\n",
    "coco_old = COCO('annotations_old.json')\n",
    "\n",
    "# Get example annotation\n",
    "ann_id_old = 3464\n",
    "ann_old = coco_old.loadAnns(ann_id_old)[0]\n",
    "\n",
    "# Get category info \n",
    "cat_id_old = ann_old['category_id']\n",
    "cat_old = coco_old.loadCats(cat_id_old)[0]\n",
    "print(\"Category:\", cat_old['name'])\n",
    "\n",
    "# Create mask  \n",
    "mask_old = coco_old.annToMask(ann_old)\n",
    "\n",
    "# Plot image\n",
    "plt.imshow(mask_old)\n",
    "\n",
    "# Overlay contours\n",
    "for contour in find_contours(mask_old, 0.5):\n",
    "    plt.plot(contour[:, 1], contour[:, 0], linewidth=2)\n",
    "    \n",
    "plt.axis('off')\n",
    "plt.show()\n",
    "'''\n",
    "\n",
    "# Load COCO annotations\n",
    "coco_new = COCO('predictions_testset_min_area_500.json')\n",
    "\n",
    "# Get example annotation\n",
    "ann_id_new = 4004 # new -> 4008 / new_bis -> 5607\n",
    "ann_new = coco_new.loadAnns(ann_id_new)[0]\n",
    "\n",
    "# Get category info \n",
    "cat_id_new = ann_new['category_id']\n",
    "cat_new = coco_new.loadCats(cat_id_new)[0]\n",
    "print(\"Category:\", cat_new['name'])\n",
    "\n",
    "# Create mask  \n",
    "mask_new = coco_new.annToMask(ann_new)\n",
    "\n",
    "# Plot image\n",
    "plt.imshow(mask_new)\n",
    "\n",
    "# Overlay contours\n",
    "for contour in find_contours(mask_new, 0.5):\n",
    "    plt.plot(contour[:, 1], contour[:, 0], linewidth=2)\n",
    "    \n",
    "plt.axis('off')\n",
    "plt.show()"
   ]
  },
  {
   "cell_type": "code",
   "execution_count": null,
   "id": "da88d37c-2cb2-4d3c-b701-4a980693bf65",
   "metadata": {},
   "outputs": [],
   "source": []
  }
 ],
 "metadata": {
  "kernelspec": {
   "display_name": "Python 3 (ipykernel)",
   "language": "python",
   "name": "python3"
  },
  "language_info": {
   "codemirror_mode": {
    "name": "ipython",
    "version": 3
   },
   "file_extension": ".py",
   "mimetype": "text/x-python",
   "name": "python",
   "nbconvert_exporter": "python",
   "pygments_lexer": "ipython3",
   "version": "3.10.12"
  }
 },
 "nbformat": 4,
 "nbformat_minor": 5
}
